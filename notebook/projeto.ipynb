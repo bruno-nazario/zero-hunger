{
 "cells": [
  {
   "cell_type": "markdown",
   "metadata": {},
   "source": [
    "# Plan"
   ]
  },
  {
   "cell_type": "markdown",
   "metadata": {},
   "source": [
    "\n",
    "**Scenario**\n",
    "\n",
    "Você acaba de ser contratado como Cientista de Dados da empresa\n",
    "Fome Zero, e a sua principal tarefa nesse momento é ajudar o CEO Kleiton Guerra\n",
    "a identificar pontos chaves da empresa, respondendo às perguntas que ele fizer\n",
    "utilizando dados!\n",
    "\n",
    "A empresa Fome Zero é uma marketplace de restaurantes. Ou seja, seu core\n",
    "business é facilitar o encontro e negociações de clientes e restaurantes. Os\n",
    "restaurantes fazem o cadastro dentro da plataforma da Fome Zero, que disponibiliza\n",
    "informações como endereço, tipo de culinária servida, se possui reservas, se faz\n",
    "entregas e também uma nota de avaliação dos serviços e produtos do restaurante,\n",
    "dentre outras informações.\n"
   ]
  },
  {
   "cell_type": "markdown",
   "metadata": {},
   "source": [
    "**O Desafio**\n",
    "\n",
    "O CEO Guerra também foi recém contratado e precisa entender melhor o negócio\n",
    "para conseguir tomar as melhores decisões estratégicas e alavancar ainda mais a\n",
    "Fome Zero, e para isso, ele precisa que seja feita uma análise nos dados da\n",
    "empresa e que sejam gerados dashboards, a partir dessas análises, para responder\n",
    "às seguintes perguntas:"
   ]
  },
  {
   "cell_type": "markdown",
   "metadata": {},
   "source": [
    "**Geral**\n",
    "1. Quantos restaurantes únicos estão registrados?\n",
    "\n",
    "2. Quantos países únicos estão registrados?\n",
    "\n",
    "3. Quantas cidades únicas estão registradas?\n",
    "\n",
    "4. Qual o total de avaliações feitas?\n",
    "\n",
    "5. Qual o total de tipos de culinária registrados?\n"
   ]
  },
  {
   "cell_type": "markdown",
   "metadata": {},
   "source": [
    "**País**\n",
    "1. Qual o nome do país que possui mais cidades registradas?\n",
    "\n",
    "2. Qual o nome do país que possui mais restaurantes registrados?\n",
    "\n",
    "3. Qual o nome do país que possui mais restaurantes com o nível de preço igual a 4\n",
    "registrados?\n",
    "\n",
    "4. Qual o nome do país que possui a maior quantidade de tipos de culinária\n",
    "distintos?\n",
    "\n",
    "5. Qual o nome do país que possui a maior quantidade de avaliações feitas?\n",
    "\n",
    "6. Qual o nome do país que possui a maior quantidade de restaurantes que fazem\n",
    "entrega?\n",
    "\n",
    "7. Qual o nome do país que possui a maior quantidade de restaurantes que aceitam\n",
    "reservas?\n",
    "\n",
    "8. Qual o nome do país que possui, na média, a maior quantidade de avaliações\n",
    "registrada?\n",
    "\n",
    "9. Qual o nome do país que possui, na média, a maior nota média registrada?\n",
    "\n",
    "10. Qual o nome do país que possui, na média, a menor nota média registrada?\n",
    "\n",
    "11. Qual a média de preço de um prato para dois por país?"
   ]
  },
  {
   "cell_type": "markdown",
   "metadata": {},
   "source": [
    "**Cidade**\n",
    "1. Qual o nome da cidade que possui mais restaurantes registrados?\n",
    "\n",
    "2. Qual o nome da cidade que possui mais restaurantes com nota média acima de\n",
    "4?\n",
    "\n",
    "3. Qual o nome da cidade que possui mais restaurantes com nota média abaixo de\n",
    "2.5?\n",
    "\n",
    "4. Qual o nome da cidade que possui o maior valor médio de um prato para dois?\n",
    "\n",
    "5. Qual o nome da cidade que possui a maior quantidade de tipos de culinária\n",
    "distintas?\n",
    "\n",
    "6. Qual o nome da cidade que possui a maior quantidade de restaurantes que fazem\n",
    "reservas?\n",
    "\n",
    "7. Qual o nome da cidade que possui a maior quantidade de restaurantes que fazem\n",
    "entregas?\n",
    "\n",
    "8. Qual o nome da cidade que possui a maior quantidade de restaurantes que\n",
    "aceitam pedidos online?"
   ]
  },
  {
   "cell_type": "markdown",
   "metadata": {},
   "source": [
    "**Restaurantes** \n",
    "1. Qual o nome do restaurante que possui a maior quantidade de avaliações?\n",
    "\n",
    "2. Qual o nome do restaurante com a maior nota média?\n",
    "\n",
    "3. Qual o nome do restaurante que possui o maior valor de uma prato para duas\n",
    "pessoas?\n",
    "\n",
    "4. Qual o nome do restaurante de tipo de culinária brasileira que possui a menor\n",
    "média de avaliação?\n",
    "\n",
    "5. Qual o nome do restaurante de tipo de culinária brasileira, e que é do Brasil, que\n",
    "possui a maior média de avaliação?\n",
    "\n",
    "6. Os restaurantes que aceitam pedido online são também, na média, os\n",
    "restaurantes que mais possuem avaliações registradas?\n",
    "\n",
    "7. Os restaurantes que fazem reservas são também, na média, os restaurantes que\n",
    "possuem o maior valor médio de um prato para duas pessoas?\n",
    "\n",
    "8. Os restaurantes do tipo de culinária japonesa dos Estados Unidos da América\n",
    "possuem um valor médio de prato para duas pessoas maior que as churrascarias\n",
    "americanas (BBQ)?"
   ]
  },
  {
   "cell_type": "markdown",
   "metadata": {},
   "source": [
    "**Tipos de Culinária**\n",
    "1. Dos restaurantes que possuem o tipo de culinária italiana, qual o nome do\n",
    "restaurante com a maior média de avaliação?\n",
    "\n",
    "2. Dos restaurantes que possuem o tipo de culinária italiana, qual o nome do\n",
    "restaurante com a menor média de avaliação?\n",
    "\n",
    "3. Dos restaurantes que possuem o tipo de culinária americana, qual o nome do\n",
    "restaurante com a maior média de avaliação?\n",
    "\n",
    "4. Dos restaurantes que possuem o tipo de culinária americana, qual o nome do\n",
    "restaurante com a menor média de avaliação?\n",
    "\n",
    "5. Dos restaurantes que possuem o tipo de culinária árabe, qual o nome do\n",
    "restaurante com a maior média de avaliação?\n",
    "\n",
    "6. Dos restaurantes que possuem o tipo de culinária árabe, qual o nome do\n",
    "restaurante com a menor média de avaliação?\n",
    "\n",
    "7. Dos restaurantes que possuem o tipo de culinária japonesa, qual o nome do\n",
    "restaurante com a maior média de avaliação?\n",
    "\n",
    "8. Dos restaurantes que possuem o tipo de culinária japonesa, qual o nome do\n",
    "restaurante com a menor média de avaliação?\n",
    "\n",
    "9. Dos restaurantes que possuem o tipo de culinária caseira, qual o nome do\n",
    "restaurante com a maior média de avaliação?\n",
    "\n",
    "10. Dos restaurantes que possuem o tipo de culinária caseira, qual o nome do\n",
    "restaurante com a menor média de avaliação?\n",
    "\n",
    "11. Qual o tipo de culinária que possui o maior valor médio de um prato para duas\n",
    "pessoas?\n",
    "\n",
    "12. Qual o tipo de culinária que possui a maior nota média?\n",
    "\n",
    "13. Qual o tipo de culinária que possui mais restaurantes que aceitam pedidos\n",
    "online e fazem entregas?\n"
   ]
  },
  {
   "cell_type": "markdown",
   "metadata": {},
   "source": [
    "# Analyze"
   ]
  },
  {
   "cell_type": "code",
   "execution_count": 1,
   "metadata": {},
   "outputs": [],
   "source": [
    "# Import of libraries\n",
    "import pandas as pd\n",
    "import inflection\n"
   ]
  },
  {
   "cell_type": "markdown",
   "metadata": {},
   "source": [
    "## Process"
   ]
  },
  {
   "cell_type": "code",
   "execution_count": 2,
   "metadata": {},
   "outputs": [
    {
     "data": {
      "text/html": [
       "<div>\n",
       "<style scoped>\n",
       "    .dataframe tbody tr th:only-of-type {\n",
       "        vertical-align: middle;\n",
       "    }\n",
       "\n",
       "    .dataframe tbody tr th {\n",
       "        vertical-align: top;\n",
       "    }\n",
       "\n",
       "    .dataframe thead th {\n",
       "        text-align: right;\n",
       "    }\n",
       "</style>\n",
       "<table border=\"1\" class=\"dataframe\">\n",
       "  <thead>\n",
       "    <tr style=\"text-align: right;\">\n",
       "      <th></th>\n",
       "      <th>Restaurant ID</th>\n",
       "      <th>Restaurant Name</th>\n",
       "      <th>Country Code</th>\n",
       "      <th>City</th>\n",
       "      <th>Address</th>\n",
       "      <th>Locality</th>\n",
       "      <th>Locality Verbose</th>\n",
       "      <th>Longitude</th>\n",
       "      <th>Latitude</th>\n",
       "      <th>Cuisines</th>\n",
       "      <th>...</th>\n",
       "      <th>Currency</th>\n",
       "      <th>Has Table booking</th>\n",
       "      <th>Has Online delivery</th>\n",
       "      <th>Is delivering now</th>\n",
       "      <th>Switch to order menu</th>\n",
       "      <th>Price range</th>\n",
       "      <th>Aggregate rating</th>\n",
       "      <th>Rating color</th>\n",
       "      <th>Rating text</th>\n",
       "      <th>Votes</th>\n",
       "    </tr>\n",
       "  </thead>\n",
       "  <tbody>\n",
       "    <tr>\n",
       "      <th>0</th>\n",
       "      <td>6310675</td>\n",
       "      <td>Mama Lou's Italian Kitchen</td>\n",
       "      <td>162</td>\n",
       "      <td>Las Piñas City</td>\n",
       "      <td>Block 1, Lot 36, Tropical Avenue Corner Tropic...</td>\n",
       "      <td>BF International</td>\n",
       "      <td>BF International, Las Piñas City</td>\n",
       "      <td>121.009787</td>\n",
       "      <td>14.447615</td>\n",
       "      <td>Italian</td>\n",
       "      <td>...</td>\n",
       "      <td>Botswana Pula(P)</td>\n",
       "      <td>1</td>\n",
       "      <td>0</td>\n",
       "      <td>0</td>\n",
       "      <td>0</td>\n",
       "      <td>3</td>\n",
       "      <td>4.6</td>\n",
       "      <td>3F7E00</td>\n",
       "      <td>Excellent</td>\n",
       "      <td>619</td>\n",
       "    </tr>\n",
       "    <tr>\n",
       "      <th>1</th>\n",
       "      <td>6310675</td>\n",
       "      <td>Mama Lou's Italian Kitchen</td>\n",
       "      <td>162</td>\n",
       "      <td>Las Piñas City</td>\n",
       "      <td>Block 1, Lot 36, Tropical Avenue Corner Tropic...</td>\n",
       "      <td>BF International</td>\n",
       "      <td>BF International, Las Piñas City</td>\n",
       "      <td>121.009787</td>\n",
       "      <td>14.447615</td>\n",
       "      <td>Italian</td>\n",
       "      <td>...</td>\n",
       "      <td>Botswana Pula(P)</td>\n",
       "      <td>1</td>\n",
       "      <td>0</td>\n",
       "      <td>0</td>\n",
       "      <td>0</td>\n",
       "      <td>3</td>\n",
       "      <td>4.6</td>\n",
       "      <td>3F7E00</td>\n",
       "      <td>Excellent</td>\n",
       "      <td>619</td>\n",
       "    </tr>\n",
       "    <tr>\n",
       "      <th>2</th>\n",
       "      <td>6314542</td>\n",
       "      <td>Blackbird</td>\n",
       "      <td>162</td>\n",
       "      <td>Makati City</td>\n",
       "      <td>Nielson Tower, Ayala Triangle Gardens, Salcedo...</td>\n",
       "      <td>Ayala Triangle Gardens, Salcedo Village, Makat...</td>\n",
       "      <td>Ayala Triangle Gardens, Salcedo Village, Makat...</td>\n",
       "      <td>121.024562</td>\n",
       "      <td>14.556042</td>\n",
       "      <td>European, Asian</td>\n",
       "      <td>...</td>\n",
       "      <td>Botswana Pula(P)</td>\n",
       "      <td>0</td>\n",
       "      <td>0</td>\n",
       "      <td>0</td>\n",
       "      <td>0</td>\n",
       "      <td>4</td>\n",
       "      <td>4.7</td>\n",
       "      <td>3F7E00</td>\n",
       "      <td>Excellent</td>\n",
       "      <td>469</td>\n",
       "    </tr>\n",
       "    <tr>\n",
       "      <th>3</th>\n",
       "      <td>6301293</td>\n",
       "      <td>Banapple</td>\n",
       "      <td>162</td>\n",
       "      <td>Makati City</td>\n",
       "      <td>Ayala Triangle Gardens, Salcedo Village, Makat...</td>\n",
       "      <td>Ayala Triangle Gardens, Salcedo Village, Makat...</td>\n",
       "      <td>Ayala Triangle Gardens, Salcedo Village, Makat...</td>\n",
       "      <td>121.023171</td>\n",
       "      <td>14.556196</td>\n",
       "      <td>Filipino, American, Italian, Bakery</td>\n",
       "      <td>...</td>\n",
       "      <td>Botswana Pula(P)</td>\n",
       "      <td>0</td>\n",
       "      <td>0</td>\n",
       "      <td>0</td>\n",
       "      <td>0</td>\n",
       "      <td>3</td>\n",
       "      <td>4.4</td>\n",
       "      <td>5BA829</td>\n",
       "      <td>Very Good</td>\n",
       "      <td>867</td>\n",
       "    </tr>\n",
       "    <tr>\n",
       "      <th>4</th>\n",
       "      <td>6315689</td>\n",
       "      <td>Bad Bird</td>\n",
       "      <td>162</td>\n",
       "      <td>Makati City</td>\n",
       "      <td>Hole In The Wall, Floor 4, Century City Mall, ...</td>\n",
       "      <td>Century City Mall, Poblacion, Makati City</td>\n",
       "      <td>Century City Mall, Poblacion, Makati City, Mak...</td>\n",
       "      <td>121.027708</td>\n",
       "      <td>14.565899</td>\n",
       "      <td>American</td>\n",
       "      <td>...</td>\n",
       "      <td>Botswana Pula(P)</td>\n",
       "      <td>0</td>\n",
       "      <td>0</td>\n",
       "      <td>0</td>\n",
       "      <td>0</td>\n",
       "      <td>3</td>\n",
       "      <td>4.4</td>\n",
       "      <td>5BA829</td>\n",
       "      <td>Very Good</td>\n",
       "      <td>858</td>\n",
       "    </tr>\n",
       "  </tbody>\n",
       "</table>\n",
       "<p>5 rows × 21 columns</p>\n",
       "</div>"
      ],
      "text/plain": [
       "   Restaurant ID             Restaurant Name  Country Code            City  \\\n",
       "0        6310675  Mama Lou's Italian Kitchen           162  Las Piñas City   \n",
       "1        6310675  Mama Lou's Italian Kitchen           162  Las Piñas City   \n",
       "2        6314542                   Blackbird           162     Makati City   \n",
       "3        6301293                    Banapple           162     Makati City   \n",
       "4        6315689                    Bad Bird           162     Makati City   \n",
       "\n",
       "                                             Address  \\\n",
       "0  Block 1, Lot 36, Tropical Avenue Corner Tropic...   \n",
       "1  Block 1, Lot 36, Tropical Avenue Corner Tropic...   \n",
       "2  Nielson Tower, Ayala Triangle Gardens, Salcedo...   \n",
       "3  Ayala Triangle Gardens, Salcedo Village, Makat...   \n",
       "4  Hole In The Wall, Floor 4, Century City Mall, ...   \n",
       "\n",
       "                                            Locality  \\\n",
       "0                                   BF International   \n",
       "1                                   BF International   \n",
       "2  Ayala Triangle Gardens, Salcedo Village, Makat...   \n",
       "3  Ayala Triangle Gardens, Salcedo Village, Makat...   \n",
       "4          Century City Mall, Poblacion, Makati City   \n",
       "\n",
       "                                    Locality Verbose   Longitude   Latitude  \\\n",
       "0                   BF International, Las Piñas City  121.009787  14.447615   \n",
       "1                   BF International, Las Piñas City  121.009787  14.447615   \n",
       "2  Ayala Triangle Gardens, Salcedo Village, Makat...  121.024562  14.556042   \n",
       "3  Ayala Triangle Gardens, Salcedo Village, Makat...  121.023171  14.556196   \n",
       "4  Century City Mall, Poblacion, Makati City, Mak...  121.027708  14.565899   \n",
       "\n",
       "                              Cuisines  ...          Currency  \\\n",
       "0                              Italian  ...  Botswana Pula(P)   \n",
       "1                              Italian  ...  Botswana Pula(P)   \n",
       "2                      European, Asian  ...  Botswana Pula(P)   \n",
       "3  Filipino, American, Italian, Bakery  ...  Botswana Pula(P)   \n",
       "4                             American  ...  Botswana Pula(P)   \n",
       "\n",
       "  Has Table booking  Has Online delivery  Is delivering now  \\\n",
       "0                 1                    0                  0   \n",
       "1                 1                    0                  0   \n",
       "2                 0                    0                  0   \n",
       "3                 0                    0                  0   \n",
       "4                 0                    0                  0   \n",
       "\n",
       "   Switch to order menu  Price range  Aggregate rating  Rating color  \\\n",
       "0                     0            3               4.6        3F7E00   \n",
       "1                     0            3               4.6        3F7E00   \n",
       "2                     0            4               4.7        3F7E00   \n",
       "3                     0            3               4.4        5BA829   \n",
       "4                     0            3               4.4        5BA829   \n",
       "\n",
       "  Rating text Votes  \n",
       "0   Excellent   619  \n",
       "1   Excellent   619  \n",
       "2   Excellent   469  \n",
       "3   Very Good   867  \n",
       "4   Very Good   858  \n",
       "\n",
       "[5 rows x 21 columns]"
      ]
     },
     "execution_count": 2,
     "metadata": {},
     "output_type": "execute_result"
    }
   ],
   "source": [
    "df = pd.read_csv('zomato.csv')\n",
    "df.head()"
   ]
  },
  {
   "cell_type": "code",
   "execution_count": 3,
   "metadata": {},
   "outputs": [
    {
     "data": {
      "text/plain": [
       "Index(['Restaurant ID', 'Restaurant Name', 'Country Code', 'City', 'Address',\n",
       "       'Locality', 'Locality Verbose', 'Longitude', 'Latitude', 'Cuisines',\n",
       "       'Average Cost for two', 'Currency', 'Has Table booking',\n",
       "       'Has Online delivery', 'Is delivering now', 'Switch to order menu',\n",
       "       'Price range', 'Aggregate rating', 'Rating color', 'Rating text',\n",
       "       'Votes'],\n",
       "      dtype='object')"
      ]
     },
     "execution_count": 3,
     "metadata": {},
     "output_type": "execute_result"
    }
   ],
   "source": [
    "df.columns"
   ]
  },
  {
   "cell_type": "markdown",
   "metadata": {},
   "source": [
    "Verifying duplicated data"
   ]
  },
  {
   "cell_type": "code",
   "execution_count": 4,
   "metadata": {},
   "outputs": [
    {
     "data": {
      "text/plain": [
       "(7527, 21)"
      ]
     },
     "execution_count": 4,
     "metadata": {},
     "output_type": "execute_result"
    }
   ],
   "source": [
    "df.shape"
   ]
  },
  {
   "cell_type": "code",
   "execution_count": 5,
   "metadata": {},
   "outputs": [
    {
     "data": {
      "text/plain": [
       "585"
      ]
     },
     "execution_count": 5,
     "metadata": {},
     "output_type": "execute_result"
    }
   ],
   "source": [
    "df.duplicated().sum()"
   ]
  },
  {
   "cell_type": "code",
   "execution_count": 6,
   "metadata": {},
   "outputs": [],
   "source": [
    "df = df.drop_duplicates()"
   ]
  },
  {
   "cell_type": "markdown",
   "metadata": {},
   "source": [
    "Verifying null data"
   ]
  },
  {
   "cell_type": "code",
   "execution_count": 7,
   "metadata": {},
   "outputs": [
    {
     "data": {
      "text/plain": [
       "Restaurant ID            0\n",
       "Restaurant Name          0\n",
       "Country Code             0\n",
       "City                     0\n",
       "Address                  0\n",
       "Locality                 0\n",
       "Locality Verbose         0\n",
       "Longitude                0\n",
       "Latitude                 0\n",
       "Cuisines                13\n",
       "Average Cost for two     0\n",
       "Currency                 0\n",
       "Has Table booking        0\n",
       "Has Online delivery      0\n",
       "Is delivering now        0\n",
       "Switch to order menu     0\n",
       "Price range              0\n",
       "Aggregate rating         0\n",
       "Rating color             0\n",
       "Rating text              0\n",
       "Votes                    0\n",
       "dtype: int64"
      ]
     },
     "execution_count": 7,
     "metadata": {},
     "output_type": "execute_result"
    }
   ],
   "source": [
    "df.isna().sum()"
   ]
  },
  {
   "cell_type": "code",
   "execution_count": 8,
   "metadata": {},
   "outputs": [],
   "source": [
    "df = df.dropna()"
   ]
  },
  {
   "cell_type": "code",
   "execution_count": 9,
   "metadata": {},
   "outputs": [
    {
     "data": {
      "text/html": [
       "<div>\n",
       "<style scoped>\n",
       "    .dataframe tbody tr th:only-of-type {\n",
       "        vertical-align: middle;\n",
       "    }\n",
       "\n",
       "    .dataframe tbody tr th {\n",
       "        vertical-align: top;\n",
       "    }\n",
       "\n",
       "    .dataframe thead th {\n",
       "        text-align: right;\n",
       "    }\n",
       "</style>\n",
       "<table border=\"1\" class=\"dataframe\">\n",
       "  <thead>\n",
       "    <tr style=\"text-align: right;\">\n",
       "      <th></th>\n",
       "      <th>Restaurant ID</th>\n",
       "      <th>Restaurant Name</th>\n",
       "      <th>Country Code</th>\n",
       "      <th>City</th>\n",
       "      <th>Address</th>\n",
       "      <th>Locality</th>\n",
       "      <th>Locality Verbose</th>\n",
       "      <th>Longitude</th>\n",
       "      <th>Latitude</th>\n",
       "      <th>Cuisines</th>\n",
       "      <th>...</th>\n",
       "      <th>Currency</th>\n",
       "      <th>Has Table booking</th>\n",
       "      <th>Has Online delivery</th>\n",
       "      <th>Is delivering now</th>\n",
       "      <th>Switch to order menu</th>\n",
       "      <th>Price range</th>\n",
       "      <th>Aggregate rating</th>\n",
       "      <th>Rating color</th>\n",
       "      <th>Rating text</th>\n",
       "      <th>Votes</th>\n",
       "    </tr>\n",
       "  </thead>\n",
       "  <tbody>\n",
       "    <tr>\n",
       "      <th>0</th>\n",
       "      <td>6310675</td>\n",
       "      <td>Mama Lou's Italian Kitchen</td>\n",
       "      <td>162</td>\n",
       "      <td>Las Piñas City</td>\n",
       "      <td>Block 1, Lot 36, Tropical Avenue Corner Tropic...</td>\n",
       "      <td>BF International</td>\n",
       "      <td>BF International, Las Piñas City</td>\n",
       "      <td>121.009787</td>\n",
       "      <td>14.447615</td>\n",
       "      <td>Italian</td>\n",
       "      <td>...</td>\n",
       "      <td>Botswana Pula(P)</td>\n",
       "      <td>1</td>\n",
       "      <td>0</td>\n",
       "      <td>0</td>\n",
       "      <td>0</td>\n",
       "      <td>3</td>\n",
       "      <td>4.6</td>\n",
       "      <td>3F7E00</td>\n",
       "      <td>Excellent</td>\n",
       "      <td>619</td>\n",
       "    </tr>\n",
       "    <tr>\n",
       "      <th>2</th>\n",
       "      <td>6314542</td>\n",
       "      <td>Blackbird</td>\n",
       "      <td>162</td>\n",
       "      <td>Makati City</td>\n",
       "      <td>Nielson Tower, Ayala Triangle Gardens, Salcedo...</td>\n",
       "      <td>Ayala Triangle Gardens, Salcedo Village, Makat...</td>\n",
       "      <td>Ayala Triangle Gardens, Salcedo Village, Makat...</td>\n",
       "      <td>121.024562</td>\n",
       "      <td>14.556042</td>\n",
       "      <td>European, Asian</td>\n",
       "      <td>...</td>\n",
       "      <td>Botswana Pula(P)</td>\n",
       "      <td>0</td>\n",
       "      <td>0</td>\n",
       "      <td>0</td>\n",
       "      <td>0</td>\n",
       "      <td>4</td>\n",
       "      <td>4.7</td>\n",
       "      <td>3F7E00</td>\n",
       "      <td>Excellent</td>\n",
       "      <td>469</td>\n",
       "    </tr>\n",
       "    <tr>\n",
       "      <th>3</th>\n",
       "      <td>6301293</td>\n",
       "      <td>Banapple</td>\n",
       "      <td>162</td>\n",
       "      <td>Makati City</td>\n",
       "      <td>Ayala Triangle Gardens, Salcedo Village, Makat...</td>\n",
       "      <td>Ayala Triangle Gardens, Salcedo Village, Makat...</td>\n",
       "      <td>Ayala Triangle Gardens, Salcedo Village, Makat...</td>\n",
       "      <td>121.023171</td>\n",
       "      <td>14.556196</td>\n",
       "      <td>Filipino, American, Italian, Bakery</td>\n",
       "      <td>...</td>\n",
       "      <td>Botswana Pula(P)</td>\n",
       "      <td>0</td>\n",
       "      <td>0</td>\n",
       "      <td>0</td>\n",
       "      <td>0</td>\n",
       "      <td>3</td>\n",
       "      <td>4.4</td>\n",
       "      <td>5BA829</td>\n",
       "      <td>Very Good</td>\n",
       "      <td>867</td>\n",
       "    </tr>\n",
       "    <tr>\n",
       "      <th>4</th>\n",
       "      <td>6315689</td>\n",
       "      <td>Bad Bird</td>\n",
       "      <td>162</td>\n",
       "      <td>Makati City</td>\n",
       "      <td>Hole In The Wall, Floor 4, Century City Mall, ...</td>\n",
       "      <td>Century City Mall, Poblacion, Makati City</td>\n",
       "      <td>Century City Mall, Poblacion, Makati City, Mak...</td>\n",
       "      <td>121.027708</td>\n",
       "      <td>14.565899</td>\n",
       "      <td>American</td>\n",
       "      <td>...</td>\n",
       "      <td>Botswana Pula(P)</td>\n",
       "      <td>0</td>\n",
       "      <td>0</td>\n",
       "      <td>0</td>\n",
       "      <td>0</td>\n",
       "      <td>3</td>\n",
       "      <td>4.4</td>\n",
       "      <td>5BA829</td>\n",
       "      <td>Very Good</td>\n",
       "      <td>858</td>\n",
       "    </tr>\n",
       "    <tr>\n",
       "      <th>5</th>\n",
       "      <td>6304833</td>\n",
       "      <td>Manam</td>\n",
       "      <td>162</td>\n",
       "      <td>Makati City</td>\n",
       "      <td>Level 1, Greenbelt 2, Ayala Center, Greenbelt,...</td>\n",
       "      <td>Greenbelt 2, San Lorenzo, Makati City</td>\n",
       "      <td>Greenbelt 2, San Lorenzo, Makati City, Makati ...</td>\n",
       "      <td>121.020380</td>\n",
       "      <td>14.552351</td>\n",
       "      <td>Filipino</td>\n",
       "      <td>...</td>\n",
       "      <td>Botswana Pula(P)</td>\n",
       "      <td>0</td>\n",
       "      <td>0</td>\n",
       "      <td>0</td>\n",
       "      <td>0</td>\n",
       "      <td>3</td>\n",
       "      <td>4.7</td>\n",
       "      <td>3F7E00</td>\n",
       "      <td>Excellent</td>\n",
       "      <td>930</td>\n",
       "    </tr>\n",
       "  </tbody>\n",
       "</table>\n",
       "<p>5 rows × 21 columns</p>\n",
       "</div>"
      ],
      "text/plain": [
       "   Restaurant ID             Restaurant Name  Country Code            City  \\\n",
       "0        6310675  Mama Lou's Italian Kitchen           162  Las Piñas City   \n",
       "2        6314542                   Blackbird           162     Makati City   \n",
       "3        6301293                    Banapple           162     Makati City   \n",
       "4        6315689                    Bad Bird           162     Makati City   \n",
       "5        6304833                       Manam           162     Makati City   \n",
       "\n",
       "                                             Address  \\\n",
       "0  Block 1, Lot 36, Tropical Avenue Corner Tropic...   \n",
       "2  Nielson Tower, Ayala Triangle Gardens, Salcedo...   \n",
       "3  Ayala Triangle Gardens, Salcedo Village, Makat...   \n",
       "4  Hole In The Wall, Floor 4, Century City Mall, ...   \n",
       "5  Level 1, Greenbelt 2, Ayala Center, Greenbelt,...   \n",
       "\n",
       "                                            Locality  \\\n",
       "0                                   BF International   \n",
       "2  Ayala Triangle Gardens, Salcedo Village, Makat...   \n",
       "3  Ayala Triangle Gardens, Salcedo Village, Makat...   \n",
       "4          Century City Mall, Poblacion, Makati City   \n",
       "5              Greenbelt 2, San Lorenzo, Makati City   \n",
       "\n",
       "                                    Locality Verbose   Longitude   Latitude  \\\n",
       "0                   BF International, Las Piñas City  121.009787  14.447615   \n",
       "2  Ayala Triangle Gardens, Salcedo Village, Makat...  121.024562  14.556042   \n",
       "3  Ayala Triangle Gardens, Salcedo Village, Makat...  121.023171  14.556196   \n",
       "4  Century City Mall, Poblacion, Makati City, Mak...  121.027708  14.565899   \n",
       "5  Greenbelt 2, San Lorenzo, Makati City, Makati ...  121.020380  14.552351   \n",
       "\n",
       "                              Cuisines  ...          Currency  \\\n",
       "0                              Italian  ...  Botswana Pula(P)   \n",
       "2                      European, Asian  ...  Botswana Pula(P)   \n",
       "3  Filipino, American, Italian, Bakery  ...  Botswana Pula(P)   \n",
       "4                             American  ...  Botswana Pula(P)   \n",
       "5                             Filipino  ...  Botswana Pula(P)   \n",
       "\n",
       "  Has Table booking  Has Online delivery  Is delivering now  \\\n",
       "0                 1                    0                  0   \n",
       "2                 0                    0                  0   \n",
       "3                 0                    0                  0   \n",
       "4                 0                    0                  0   \n",
       "5                 0                    0                  0   \n",
       "\n",
       "   Switch to order menu  Price range  Aggregate rating  Rating color  \\\n",
       "0                     0            3               4.6        3F7E00   \n",
       "2                     0            4               4.7        3F7E00   \n",
       "3                     0            3               4.4        5BA829   \n",
       "4                     0            3               4.4        5BA829   \n",
       "5                     0            3               4.7        3F7E00   \n",
       "\n",
       "  Rating text Votes  \n",
       "0   Excellent   619  \n",
       "2   Excellent   469  \n",
       "3   Very Good   867  \n",
       "4   Very Good   858  \n",
       "5   Excellent   930  \n",
       "\n",
       "[5 rows x 21 columns]"
      ]
     },
     "execution_count": 9,
     "metadata": {},
     "output_type": "execute_result"
    }
   ],
   "source": [
    "df.head()"
   ]
  },
  {
   "cell_type": "code",
   "execution_count": 10,
   "metadata": {},
   "outputs": [
    {
     "name": "stdout",
     "output_type": "stream",
     "text": [
      "<class 'pandas.core.frame.DataFrame'>\n",
      "Index: 6929 entries, 0 to 7526\n",
      "Data columns (total 21 columns):\n",
      " #   Column                Non-Null Count  Dtype  \n",
      "---  ------                --------------  -----  \n",
      " 0   Restaurant ID         6929 non-null   int64  \n",
      " 1   Restaurant Name       6929 non-null   object \n",
      " 2   Country Code          6929 non-null   int64  \n",
      " 3   City                  6929 non-null   object \n",
      " 4   Address               6929 non-null   object \n",
      " 5   Locality              6929 non-null   object \n",
      " 6   Locality Verbose      6929 non-null   object \n",
      " 7   Longitude             6929 non-null   float64\n",
      " 8   Latitude              6929 non-null   float64\n",
      " 9   Cuisines              6929 non-null   object \n",
      " 10  Average Cost for two  6929 non-null   int64  \n",
      " 11  Currency              6929 non-null   object \n",
      " 12  Has Table booking     6929 non-null   int64  \n",
      " 13  Has Online delivery   6929 non-null   int64  \n",
      " 14  Is delivering now     6929 non-null   int64  \n",
      " 15  Switch to order menu  6929 non-null   int64  \n",
      " 16  Price range           6929 non-null   int64  \n",
      " 17  Aggregate rating      6929 non-null   float64\n",
      " 18  Rating color          6929 non-null   object \n",
      " 19  Rating text           6929 non-null   object \n",
      " 20  Votes                 6929 non-null   int64  \n",
      "dtypes: float64(3), int64(9), object(9)\n",
      "memory usage: 1.2+ MB\n"
     ]
    }
   ],
   "source": [
    "df.info()"
   ]
  },
  {
   "cell_type": "markdown",
   "metadata": {},
   "source": [
    "## Analyze"
   ]
  },
  {
   "cell_type": "code",
   "execution_count": 11,
   "metadata": {},
   "outputs": [],
   "source": [
    "COUNTRIES = {\n",
    "1: \"India\",\n",
    "14: \"Australia\",\n",
    "30: \"Brazil\",\n",
    "37: \"Canada\",\n",
    "94: \"Indonesia\",\n",
    "148: \"New Zeland\",\n",
    "162: \"Philippines\",\n",
    "166: \"Qatar\",\n",
    "184: \"Singapure\",\n",
    "189: \"South Africa\",\n",
    "191: \"Sri Lanka\",\n",
    "208: \"Turkey\",\n",
    "214: \"United Arab Emirates\",\n",
    "215: \"England\",\n",
    "216: \"United States of America\",\n",
    "}\n",
    "\n",
    "def country_name(country_id):\n",
    "    return COUNTRIES[country_id]\n"
   ]
  },
  {
   "cell_type": "code",
   "execution_count": 12,
   "metadata": {},
   "outputs": [],
   "source": [
    "def create_price_tye(price_range):\n",
    "    if price_range == 1:\n",
    "        return \"cheap\"\n",
    "    elif price_range == 2:\n",
    "        return \"normal\"\n",
    "    elif price_range == 3:\n",
    "        return \"expensive\"\n",
    "    else:\n",
    "        return \"gourmet\""
   ]
  },
  {
   "cell_type": "code",
   "execution_count": 13,
   "metadata": {},
   "outputs": [],
   "source": [
    "COLORS = {\n",
    "\"3F7E00\": \"darkgreen\",\n",
    "\"5BA829\": \"green\",\n",
    "\"9ACD32\": \"lightgreen\",\n",
    "\"CDD614\": \"orange\",\n",
    "\"FFBA00\": \"red\",\n",
    "\"CBCBC8\": \"darkred\",\n",
    "\"FF7800\": \"darkred\",\n",
    "}\n",
    "\n",
    "def color_name(color_code):\n",
    "    return COLORS[color_code]\n"
   ]
  },
  {
   "cell_type": "code",
   "execution_count": 14,
   "metadata": {},
   "outputs": [],
   "source": [
    "def rename_columns(dataframe):\n",
    "    df = dataframe.copy()\n",
    "    title = lambda x: inflection.titleize(x)\n",
    "    snakecase = lambda x: inflection.underscore(x)\n",
    "    spaces = lambda x: x.replace(\" \", \"\")\n",
    "    cols_old = list(df.columns)\n",
    "    cols_old = list(map(title, cols_old))\n",
    "    cols_old = list(map(spaces, cols_old))\n",
    "    cols_new = list(map(snakecase, cols_old))\n",
    "    df.columns = cols_new\n",
    "    return df\n"
   ]
  },
  {
   "cell_type": "code",
   "execution_count": 15,
   "metadata": {},
   "outputs": [
    {
     "data": {
      "text/html": [
       "<div>\n",
       "<style scoped>\n",
       "    .dataframe tbody tr th:only-of-type {\n",
       "        vertical-align: middle;\n",
       "    }\n",
       "\n",
       "    .dataframe tbody tr th {\n",
       "        vertical-align: top;\n",
       "    }\n",
       "\n",
       "    .dataframe thead th {\n",
       "        text-align: right;\n",
       "    }\n",
       "</style>\n",
       "<table border=\"1\" class=\"dataframe\">\n",
       "  <thead>\n",
       "    <tr style=\"text-align: right;\">\n",
       "      <th></th>\n",
       "      <th>restaurant_id</th>\n",
       "      <th>restaurant_name</th>\n",
       "      <th>country_code</th>\n",
       "      <th>city</th>\n",
       "      <th>address</th>\n",
       "      <th>locality</th>\n",
       "      <th>locality_verbose</th>\n",
       "      <th>longitude</th>\n",
       "      <th>latitude</th>\n",
       "      <th>cuisines</th>\n",
       "      <th>...</th>\n",
       "      <th>currency</th>\n",
       "      <th>has_table_booking</th>\n",
       "      <th>has_online_delivery</th>\n",
       "      <th>is_delivering_now</th>\n",
       "      <th>switch_to_order_menu</th>\n",
       "      <th>price_range</th>\n",
       "      <th>aggregate_rating</th>\n",
       "      <th>rating_color</th>\n",
       "      <th>rating_text</th>\n",
       "      <th>votes</th>\n",
       "    </tr>\n",
       "  </thead>\n",
       "  <tbody>\n",
       "    <tr>\n",
       "      <th>0</th>\n",
       "      <td>6310675</td>\n",
       "      <td>Mama Lou's Italian Kitchen</td>\n",
       "      <td>162</td>\n",
       "      <td>Las Piñas City</td>\n",
       "      <td>Block 1, Lot 36, Tropical Avenue Corner Tropic...</td>\n",
       "      <td>BF International</td>\n",
       "      <td>BF International, Las Piñas City</td>\n",
       "      <td>121.009787</td>\n",
       "      <td>14.447615</td>\n",
       "      <td>Italian</td>\n",
       "      <td>...</td>\n",
       "      <td>Botswana Pula(P)</td>\n",
       "      <td>1</td>\n",
       "      <td>0</td>\n",
       "      <td>0</td>\n",
       "      <td>0</td>\n",
       "      <td>3</td>\n",
       "      <td>4.6</td>\n",
       "      <td>3F7E00</td>\n",
       "      <td>Excellent</td>\n",
       "      <td>619</td>\n",
       "    </tr>\n",
       "    <tr>\n",
       "      <th>2</th>\n",
       "      <td>6314542</td>\n",
       "      <td>Blackbird</td>\n",
       "      <td>162</td>\n",
       "      <td>Makati City</td>\n",
       "      <td>Nielson Tower, Ayala Triangle Gardens, Salcedo...</td>\n",
       "      <td>Ayala Triangle Gardens, Salcedo Village, Makat...</td>\n",
       "      <td>Ayala Triangle Gardens, Salcedo Village, Makat...</td>\n",
       "      <td>121.024562</td>\n",
       "      <td>14.556042</td>\n",
       "      <td>European, Asian</td>\n",
       "      <td>...</td>\n",
       "      <td>Botswana Pula(P)</td>\n",
       "      <td>0</td>\n",
       "      <td>0</td>\n",
       "      <td>0</td>\n",
       "      <td>0</td>\n",
       "      <td>4</td>\n",
       "      <td>4.7</td>\n",
       "      <td>3F7E00</td>\n",
       "      <td>Excellent</td>\n",
       "      <td>469</td>\n",
       "    </tr>\n",
       "    <tr>\n",
       "      <th>3</th>\n",
       "      <td>6301293</td>\n",
       "      <td>Banapple</td>\n",
       "      <td>162</td>\n",
       "      <td>Makati City</td>\n",
       "      <td>Ayala Triangle Gardens, Salcedo Village, Makat...</td>\n",
       "      <td>Ayala Triangle Gardens, Salcedo Village, Makat...</td>\n",
       "      <td>Ayala Triangle Gardens, Salcedo Village, Makat...</td>\n",
       "      <td>121.023171</td>\n",
       "      <td>14.556196</td>\n",
       "      <td>Filipino, American, Italian, Bakery</td>\n",
       "      <td>...</td>\n",
       "      <td>Botswana Pula(P)</td>\n",
       "      <td>0</td>\n",
       "      <td>0</td>\n",
       "      <td>0</td>\n",
       "      <td>0</td>\n",
       "      <td>3</td>\n",
       "      <td>4.4</td>\n",
       "      <td>5BA829</td>\n",
       "      <td>Very Good</td>\n",
       "      <td>867</td>\n",
       "    </tr>\n",
       "    <tr>\n",
       "      <th>4</th>\n",
       "      <td>6315689</td>\n",
       "      <td>Bad Bird</td>\n",
       "      <td>162</td>\n",
       "      <td>Makati City</td>\n",
       "      <td>Hole In The Wall, Floor 4, Century City Mall, ...</td>\n",
       "      <td>Century City Mall, Poblacion, Makati City</td>\n",
       "      <td>Century City Mall, Poblacion, Makati City, Mak...</td>\n",
       "      <td>121.027708</td>\n",
       "      <td>14.565899</td>\n",
       "      <td>American</td>\n",
       "      <td>...</td>\n",
       "      <td>Botswana Pula(P)</td>\n",
       "      <td>0</td>\n",
       "      <td>0</td>\n",
       "      <td>0</td>\n",
       "      <td>0</td>\n",
       "      <td>3</td>\n",
       "      <td>4.4</td>\n",
       "      <td>5BA829</td>\n",
       "      <td>Very Good</td>\n",
       "      <td>858</td>\n",
       "    </tr>\n",
       "    <tr>\n",
       "      <th>5</th>\n",
       "      <td>6304833</td>\n",
       "      <td>Manam</td>\n",
       "      <td>162</td>\n",
       "      <td>Makati City</td>\n",
       "      <td>Level 1, Greenbelt 2, Ayala Center, Greenbelt,...</td>\n",
       "      <td>Greenbelt 2, San Lorenzo, Makati City</td>\n",
       "      <td>Greenbelt 2, San Lorenzo, Makati City, Makati ...</td>\n",
       "      <td>121.020380</td>\n",
       "      <td>14.552351</td>\n",
       "      <td>Filipino</td>\n",
       "      <td>...</td>\n",
       "      <td>Botswana Pula(P)</td>\n",
       "      <td>0</td>\n",
       "      <td>0</td>\n",
       "      <td>0</td>\n",
       "      <td>0</td>\n",
       "      <td>3</td>\n",
       "      <td>4.7</td>\n",
       "      <td>3F7E00</td>\n",
       "      <td>Excellent</td>\n",
       "      <td>930</td>\n",
       "    </tr>\n",
       "  </tbody>\n",
       "</table>\n",
       "<p>5 rows × 21 columns</p>\n",
       "</div>"
      ],
      "text/plain": [
       "   restaurant_id             restaurant_name  country_code            city  \\\n",
       "0        6310675  Mama Lou's Italian Kitchen           162  Las Piñas City   \n",
       "2        6314542                   Blackbird           162     Makati City   \n",
       "3        6301293                    Banapple           162     Makati City   \n",
       "4        6315689                    Bad Bird           162     Makati City   \n",
       "5        6304833                       Manam           162     Makati City   \n",
       "\n",
       "                                             address  \\\n",
       "0  Block 1, Lot 36, Tropical Avenue Corner Tropic...   \n",
       "2  Nielson Tower, Ayala Triangle Gardens, Salcedo...   \n",
       "3  Ayala Triangle Gardens, Salcedo Village, Makat...   \n",
       "4  Hole In The Wall, Floor 4, Century City Mall, ...   \n",
       "5  Level 1, Greenbelt 2, Ayala Center, Greenbelt,...   \n",
       "\n",
       "                                            locality  \\\n",
       "0                                   BF International   \n",
       "2  Ayala Triangle Gardens, Salcedo Village, Makat...   \n",
       "3  Ayala Triangle Gardens, Salcedo Village, Makat...   \n",
       "4          Century City Mall, Poblacion, Makati City   \n",
       "5              Greenbelt 2, San Lorenzo, Makati City   \n",
       "\n",
       "                                    locality_verbose   longitude   latitude  \\\n",
       "0                   BF International, Las Piñas City  121.009787  14.447615   \n",
       "2  Ayala Triangle Gardens, Salcedo Village, Makat...  121.024562  14.556042   \n",
       "3  Ayala Triangle Gardens, Salcedo Village, Makat...  121.023171  14.556196   \n",
       "4  Century City Mall, Poblacion, Makati City, Mak...  121.027708  14.565899   \n",
       "5  Greenbelt 2, San Lorenzo, Makati City, Makati ...  121.020380  14.552351   \n",
       "\n",
       "                              cuisines  ...          currency  \\\n",
       "0                              Italian  ...  Botswana Pula(P)   \n",
       "2                      European, Asian  ...  Botswana Pula(P)   \n",
       "3  Filipino, American, Italian, Bakery  ...  Botswana Pula(P)   \n",
       "4                             American  ...  Botswana Pula(P)   \n",
       "5                             Filipino  ...  Botswana Pula(P)   \n",
       "\n",
       "  has_table_booking  has_online_delivery  is_delivering_now  \\\n",
       "0                 1                    0                  0   \n",
       "2                 0                    0                  0   \n",
       "3                 0                    0                  0   \n",
       "4                 0                    0                  0   \n",
       "5                 0                    0                  0   \n",
       "\n",
       "   switch_to_order_menu  price_range  aggregate_rating  rating_color  \\\n",
       "0                     0            3               4.6        3F7E00   \n",
       "2                     0            4               4.7        3F7E00   \n",
       "3                     0            3               4.4        5BA829   \n",
       "4                     0            3               4.4        5BA829   \n",
       "5                     0            3               4.7        3F7E00   \n",
       "\n",
       "  rating_text votes  \n",
       "0   Excellent   619  \n",
       "2   Excellent   469  \n",
       "3   Very Good   867  \n",
       "4   Very Good   858  \n",
       "5   Excellent   930  \n",
       "\n",
       "[5 rows x 21 columns]"
      ]
     },
     "execution_count": 15,
     "metadata": {},
     "output_type": "execute_result"
    }
   ],
   "source": [
    "df = rename_columns(df)\n",
    "df.head()"
   ]
  },
  {
   "cell_type": "markdown",
   "metadata": {},
   "source": [
    "### Geral"
   ]
  },
  {
   "cell_type": "code",
   "execution_count": 16,
   "metadata": {},
   "outputs": [],
   "source": [
    "def unique_thing(col):\n",
    "    return len(df[col].unique().tolist())"
   ]
  },
  {
   "cell_type": "code",
   "execution_count": 17,
   "metadata": {},
   "outputs": [
    {
     "data": {
      "text/plain": [
       "6929"
      ]
     },
     "execution_count": 17,
     "metadata": {},
     "output_type": "execute_result"
    }
   ],
   "source": [
    "# 1. Quantos restaurantes únicos estão registrados?\n",
    "unique_thing('restaurant_id')"
   ]
  },
  {
   "cell_type": "code",
   "execution_count": 18,
   "metadata": {},
   "outputs": [
    {
     "data": {
      "text/plain": [
       "15"
      ]
     },
     "execution_count": 18,
     "metadata": {},
     "output_type": "execute_result"
    }
   ],
   "source": [
    "# 2. Quantos países únicos estão registrados?\n",
    "unique_thing('country_code')"
   ]
  },
  {
   "cell_type": "code",
   "execution_count": 19,
   "metadata": {},
   "outputs": [
    {
     "data": {
      "text/plain": [
       "125"
      ]
     },
     "execution_count": 19,
     "metadata": {},
     "output_type": "execute_result"
    }
   ],
   "source": [
    "# 3. Quantas cidades únicas estão registradas?\n",
    "unique_thing('city')"
   ]
  },
  {
   "cell_type": "code",
   "execution_count": 20,
   "metadata": {},
   "outputs": [
    {
     "data": {
      "text/plain": [
       "4194533"
      ]
     },
     "execution_count": 20,
     "metadata": {},
     "output_type": "execute_result"
    }
   ],
   "source": [
    "# 4. Qual o total de avaliações feitas?\n",
    "df['votes'].sum()"
   ]
  },
  {
   "cell_type": "code",
   "execution_count": 21,
   "metadata": {},
   "outputs": [
    {
     "data": {
      "text/plain": [
       "165"
      ]
     },
     "execution_count": 21,
     "metadata": {},
     "output_type": "execute_result"
    }
   ],
   "source": [
    "# 5. Qual o total de tipos de culinária registrados?\n",
    "df[\"cuisines\"] = df.loc[:, \"cuisines\"].apply(lambda x: x.split(\",\")[0])\n",
    "unique_thing('cuisines')"
   ]
  },
  {
   "cell_type": "markdown",
   "metadata": {},
   "source": [
    "### País"
   ]
  },
  {
   "cell_type": "code",
   "execution_count": 22,
   "metadata": {},
   "outputs": [
    {
     "data": {
      "text/plain": [
       "Index(['restaurant_id', 'restaurant_name', 'country_code', 'city', 'address',\n",
       "       'locality', 'locality_verbose', 'longitude', 'latitude', 'cuisines',\n",
       "       'average_cost_for_two', 'currency', 'has_table_booking',\n",
       "       'has_online_delivery', 'is_delivering_now', 'switch_to_order_menu',\n",
       "       'price_range', 'aggregate_rating', 'rating_color', 'rating_text',\n",
       "       'votes'],\n",
       "      dtype='object')"
      ]
     },
     "execution_count": 22,
     "metadata": {},
     "output_type": "execute_result"
    }
   ],
   "source": [
    "df.columns"
   ]
  },
  {
   "cell_type": "code",
   "execution_count": 23,
   "metadata": {},
   "outputs": [
    {
     "data": {
      "text/plain": [
       "'India'"
      ]
     },
     "execution_count": 23,
     "metadata": {},
     "output_type": "execute_result"
    }
   ],
   "source": [
    "# 1. Qual o nome do país que possui mais cidades registradas?\n",
    "country_city_counts  = df.groupby('country_code')['city'].nunique()\n",
    "most_cities_country = country_city_counts.idxmax()\n",
    "country_name(most_cities_country)"
   ]
  },
  {
   "cell_type": "code",
   "execution_count": 24,
   "metadata": {},
   "outputs": [
    {
     "data": {
      "text/plain": [
       "'India'"
      ]
     },
     "execution_count": 24,
     "metadata": {},
     "output_type": "execute_result"
    }
   ],
   "source": [
    "# 2. Qual o nome do país que possui mais restaurantes registrados?\n",
    "country_rest_counts  = df.groupby('country_code')['restaurant_id'].nunique()\n",
    "most_rest_country = country_rest_counts.idxmax()\n",
    "country_name(most_rest_country)"
   ]
  },
  {
   "cell_type": "code",
   "execution_count": 25,
   "metadata": {},
   "outputs": [
    {
     "data": {
      "text/plain": [
       "'United States of America'"
      ]
     },
     "execution_count": 25,
     "metadata": {},
     "output_type": "execute_result"
    }
   ],
   "source": [
    "# 3. Qual o nome do país que possui mais restaurantes com o nível de preço igual a 4 registrados?\n",
    "df_4star = df[df['price_range'] == 4]\n",
    "country_rest_count = df_4star.groupby('country_code')['restaurant_id'].nunique()\n",
    "most_rest_country = country_rest_count.idxmax()\n",
    "country_name(most_rest_country)"
   ]
  },
  {
   "cell_type": "code",
   "execution_count": 26,
   "metadata": {},
   "outputs": [
    {
     "data": {
      "text/plain": [
       "'India'"
      ]
     },
     "execution_count": 26,
     "metadata": {},
     "output_type": "execute_result"
    }
   ],
   "source": [
    "# 4. Qual o nome do país que possui a maior quantidade de tipos de culinária distintos?\n",
    "country_rest_counts  = df.groupby('country_code')['cuisines'].nunique()\n",
    "most_rest_country = country_rest_counts.idxmax()\n",
    "country_name(most_rest_country)"
   ]
  },
  {
   "cell_type": "code",
   "execution_count": 27,
   "metadata": {},
   "outputs": [
    {
     "data": {
      "text/plain": [
       "'India'"
      ]
     },
     "execution_count": 27,
     "metadata": {},
     "output_type": "execute_result"
    }
   ],
   "source": [
    "# 5. Qual o nome do país que possui a maior quantidade de avaliações feitas?\n",
    "country_rest_counts  = df.groupby('country_code')['votes'].sum()\n",
    "most_rest_country = country_rest_counts.idxmax()\n",
    "country_name(most_rest_country)"
   ]
  },
  {
   "cell_type": "code",
   "execution_count": 28,
   "metadata": {},
   "outputs": [
    {
     "data": {
      "text/plain": [
       "'India'"
      ]
     },
     "execution_count": 28,
     "metadata": {},
     "output_type": "execute_result"
    }
   ],
   "source": [
    "# 6. Qual o nome do país que possui a maior quantidade de restaurantes que fazem entrega?\n",
    "country_rest_counts  = df.groupby('country_code')['has_online_delivery'].sum()\n",
    "most_rest_country = country_rest_counts.idxmax()\n",
    "country_name(most_rest_country)"
   ]
  },
  {
   "cell_type": "code",
   "execution_count": 29,
   "metadata": {},
   "outputs": [
    {
     "data": {
      "text/plain": [
       "'India'"
      ]
     },
     "execution_count": 29,
     "metadata": {},
     "output_type": "execute_result"
    }
   ],
   "source": [
    "# 7. Qual o nome do país que possui a maior quantidade de restaurantes que aceitam reservas?\n",
    "country_rest_counts  = df.groupby('country_code')['has_table_booking'].sum()\n",
    "most_rest_country = country_rest_counts.idxmax()\n",
    "country_name(most_rest_country)"
   ]
  },
  {
   "cell_type": "code",
   "execution_count": 30,
   "metadata": {},
   "outputs": [
    {
     "data": {
      "text/plain": [
       "'Indonesia'"
      ]
     },
     "execution_count": 30,
     "metadata": {},
     "output_type": "execute_result"
    }
   ],
   "source": [
    "# 8. Qual o nome do país que possui, na média, a maior quantidade de avaliações registrada?\n",
    "country_rest_counts  = df.groupby('country_code')['votes'].mean()\n",
    "most_rest_country = country_rest_counts.idxmax()\n",
    "country_name(most_rest_country)"
   ]
  },
  {
   "cell_type": "code",
   "execution_count": 31,
   "metadata": {},
   "outputs": [
    {
     "data": {
      "text/plain": [
       "'Indonesia'"
      ]
     },
     "execution_count": 31,
     "metadata": {},
     "output_type": "execute_result"
    }
   ],
   "source": [
    "# 9. Qual o nome do país que possui, na média, a maior nota média registrada?\n",
    "country_rest_counts  = df.groupby('country_code')['aggregate_rating'].mean()\n",
    "most_rest_country = country_rest_counts.idxmax()\n",
    "country_name(most_rest_country)"
   ]
  },
  {
   "cell_type": "code",
   "execution_count": 32,
   "metadata": {},
   "outputs": [
    {
     "data": {
      "text/plain": [
       "'Brazil'"
      ]
     },
     "execution_count": 32,
     "metadata": {},
     "output_type": "execute_result"
    }
   ],
   "source": [
    "# 10. Qual o nome do país que possui, na média, a menor nota média registrada?\n",
    "country_rest_counts  = df.groupby('country_code')['aggregate_rating'].mean()\n",
    "most_rest_country = country_rest_counts.idxmin()\n",
    "country_name(most_rest_country)"
   ]
  },
  {
   "cell_type": "code",
   "execution_count": 33,
   "metadata": {},
   "outputs": [
    {
     "data": {
      "text/plain": [
       "country_code\n",
       "1         704.400514\n",
       "14     138959.783333\n",
       "30        138.812500\n",
       "37         41.861111\n",
       "94     303000.000000\n",
       "148        62.154812\n",
       "162      1227.825000\n",
       "166       174.000000\n",
       "184       141.437500\n",
       "189       339.228324\n",
       "191      2579.375000\n",
       "208       128.584906\n",
       "214       153.716667\n",
       "215        43.510000\n",
       "216        55.029840\n",
       "Name: average_cost_for_two, dtype: float64"
      ]
     },
     "execution_count": 33,
     "metadata": {},
     "output_type": "execute_result"
    }
   ],
   "source": [
    "# 11. Qual a média de preço de um prato para dois por país?\n",
    "country_rest_counts  = df.groupby('country_code')['average_cost_for_two'].mean()\n",
    "country_rest_counts"
   ]
  },
  {
   "cell_type": "markdown",
   "metadata": {},
   "source": [
    "### Cidade"
   ]
  },
  {
   "cell_type": "code",
   "execution_count": 34,
   "metadata": {},
   "outputs": [
    {
     "data": {
      "text/plain": [
       "'Abu Dhabi'"
      ]
     },
     "execution_count": 34,
     "metadata": {},
     "output_type": "execute_result"
    }
   ],
   "source": [
    "# 1. Qual o nome da cidade que possui mais restaurantes registrados?\n",
    "city_restaurant_counts = df.groupby('city')['restaurant_id'].count()\n",
    "most_restaurants_city = city_restaurant_counts.idxmax()\n",
    "most_restaurants_city\n"
   ]
  },
  {
   "cell_type": "code",
   "execution_count": null,
   "metadata": {},
   "outputs": [],
   "source": []
  },
  {
   "cell_type": "code",
   "execution_count": 35,
   "metadata": {},
   "outputs": [
    {
     "data": {
      "text/plain": [
       "'Bangalore'"
      ]
     },
     "execution_count": 35,
     "metadata": {},
     "output_type": "execute_result"
    }
   ],
   "source": [
    "# 2. Qual o nome da cidade que possui mais restaurantes com nota média acima de 4?\n",
    "df_4star = df[df['aggregate_rating'] > 4]\n",
    "city_restaurant_counts = df_4star.groupby('city')['restaurant_id'].count()\n",
    "most_restaurants_city = city_restaurant_counts.idxmax()\n",
    "most_restaurants_city"
   ]
  },
  {
   "cell_type": "code",
   "execution_count": 36,
   "metadata": {},
   "outputs": [
    {
     "data": {
      "text/plain": [
       "'Gangtok'"
      ]
     },
     "execution_count": 36,
     "metadata": {},
     "output_type": "execute_result"
    }
   ],
   "source": [
    "# 3. Qual o nome da cidade que possui mais restaurantes com nota média abaixo de 2.5?\n",
    "df_25star = df[df['aggregate_rating'] < 2.5]\n",
    "city_restaurant_counts = df_25star.groupby('city')['restaurant_id'].count()\n",
    "most_restaurants_city = city_restaurant_counts.idxmax()\n",
    "most_restaurants_city"
   ]
  },
  {
   "cell_type": "code",
   "execution_count": 37,
   "metadata": {},
   "outputs": [
    {
     "data": {
      "text/plain": [
       "0       1100\n",
       "2       3100\n",
       "3        800\n",
       "4        700\n",
       "5        700\n",
       "        ... \n",
       "7522     300\n",
       "7523      45\n",
       "7524     140\n",
       "7525      95\n",
       "7526     150\n",
       "Name: average_cost_for_two, Length: 6929, dtype: int64"
      ]
     },
     "execution_count": 37,
     "metadata": {},
     "output_type": "execute_result"
    }
   ],
   "source": [
    "df['average_cost_for_two']"
   ]
  },
  {
   "cell_type": "code",
   "execution_count": 38,
   "metadata": {},
   "outputs": [
    {
     "data": {
      "text/plain": [
       "'Adelaide'"
      ]
     },
     "execution_count": 38,
     "metadata": {},
     "output_type": "execute_result"
    }
   ],
   "source": [
    "# 4. Qual o nome da cidade que possui o maior valor médio de um prato para dois?\n",
    "city_restaurant_counts = df.groupby('city')['average_cost_for_two'].mean()\n",
    "most_restaurants_city = city_restaurant_counts.idxmax()\n",
    "most_restaurants_city"
   ]
  },
  {
   "cell_type": "code",
   "execution_count": 39,
   "metadata": {},
   "outputs": [
    {
     "data": {
      "text/plain": [
       "'Birmingham'"
      ]
     },
     "execution_count": 39,
     "metadata": {},
     "output_type": "execute_result"
    }
   ],
   "source": [
    "# 5. Qual o nome da cidade que possui a maior quantidade de tipos de culinária distintas?\n",
    "city_restaurant_counts = df.groupby('city')['cuisines'].nunique()\n",
    "most_restaurants_city = city_restaurant_counts.idxmax()\n",
    "most_restaurants_city"
   ]
  },
  {
   "cell_type": "code",
   "execution_count": 40,
   "metadata": {},
   "outputs": [
    {
     "data": {
      "text/plain": [
       "'Bangalore'"
      ]
     },
     "execution_count": 40,
     "metadata": {},
     "output_type": "execute_result"
    }
   ],
   "source": [
    "# 6. Qual o nome da cidade que possui a maior quantidade de restaurantes que fazem reservas?\n",
    "city_restaurant_counts = df.groupby('city')['has_table_booking'].sum()\n",
    "most_restaurants_city = city_restaurant_counts.idxmax()\n",
    "most_restaurants_city"
   ]
  },
  {
   "cell_type": "code",
   "execution_count": 41,
   "metadata": {},
   "outputs": [
    {
     "data": {
      "text/plain": [
       "'Amritsar'"
      ]
     },
     "execution_count": 41,
     "metadata": {},
     "output_type": "execute_result"
    }
   ],
   "source": [
    "# 7. Qual o nome da cidade que possui a maior quantidade de restaurantes que fazem entregas?\n",
    "city_restaurant_counts = df.groupby('city')['is_delivering_now'].sum()\n",
    "most_restaurants_city = city_restaurant_counts.idxmax()\n",
    "most_restaurants_city"
   ]
  },
  {
   "cell_type": "code",
   "execution_count": 42,
   "metadata": {},
   "outputs": [
    {
     "data": {
      "text/plain": [
       "'Bhopal'"
      ]
     },
     "execution_count": 42,
     "metadata": {},
     "output_type": "execute_result"
    }
   ],
   "source": [
    "# 8. Qual o nome da cidade que possui a maior quantidade de restaurantes que aceitam pedidos online?\n",
    "city_restaurant_counts = df.groupby('city')['has_online_delivery'].sum()\n",
    "most_restaurants_city = city_restaurant_counts.idxmax()\n",
    "most_restaurants_city"
   ]
  },
  {
   "cell_type": "markdown",
   "metadata": {},
   "source": [
    "### Restaurantes "
   ]
  },
  {
   "cell_type": "code",
   "execution_count": 43,
   "metadata": {},
   "outputs": [
    {
     "data": {
      "text/plain": [
       "\"Domino's Pizza\""
      ]
     },
     "execution_count": 43,
     "metadata": {},
     "output_type": "execute_result"
    }
   ],
   "source": [
    "# 1. Qual o nome do restaurante que possui a maior quantidade de avaliações?\n",
    "restaurant_review_counts = df.groupby('restaurant_name')['votes'].sum()\n",
    "most_reviews_restaurant = restaurant_review_counts.idxmax()\n",
    "most_reviews_restaurant"
   ]
  },
  {
   "cell_type": "code",
   "execution_count": 44,
   "metadata": {},
   "outputs": [
    {
     "data": {
      "text/plain": [
       "0       1100\n",
       "2       3100\n",
       "3        800\n",
       "4        700\n",
       "5        700\n",
       "        ... \n",
       "7522     300\n",
       "7523      45\n",
       "7524     140\n",
       "7525      95\n",
       "7526     150\n",
       "Name: average_cost_for_two, Length: 6929, dtype: int64"
      ]
     },
     "execution_count": 44,
     "metadata": {},
     "output_type": "execute_result"
    }
   ],
   "source": [
    "df['average_cost_for_two']"
   ]
  },
  {
   "cell_type": "code",
   "execution_count": 45,
   "metadata": {},
   "outputs": [
    {
     "data": {
      "text/plain": [
       "'5 Napkin Burger'"
      ]
     },
     "execution_count": 45,
     "metadata": {},
     "output_type": "execute_result"
    }
   ],
   "source": [
    "# 2. Qual o nome do restaurante com a maior nota média?\n",
    "restaurant_review_counts = df.groupby('restaurant_name')['aggregate_rating'].mean()\n",
    "most_reviews_restaurant = restaurant_review_counts.idxmax()\n",
    "most_reviews_restaurant"
   ]
  },
  {
   "cell_type": "code",
   "execution_count": 46,
   "metadata": {},
   "outputs": [
    {
     "data": {
      "text/plain": [
       "\"d'Arry's Verandah Restaurant\""
      ]
     },
     "execution_count": 46,
     "metadata": {},
     "output_type": "execute_result"
    }
   ],
   "source": [
    "# 3. Qual o nome do restaurante que possui o maior valor de uma prato para duas pessoas?\n",
    "restaurant_review_counts = df.groupby('restaurant_name')['average_cost_for_two'].max()\n",
    "most_reviews_restaurant = restaurant_review_counts.idxmax()\n",
    "most_reviews_restaurant"
   ]
  },
  {
   "cell_type": "code",
   "execution_count": 47,
   "metadata": {},
   "outputs": [
    {
     "data": {
      "text/plain": [
       "'Bar do Luiz Fernandes'"
      ]
     },
     "execution_count": 47,
     "metadata": {},
     "output_type": "execute_result"
    }
   ],
   "source": [
    "# 4. Qual o nome do restaurante de tipo de culinária brasileira que possui a menor média de avaliação?\n",
    "df_brazil = df[df['cuisines'] == 'Brazilian']\n",
    "restaurant_review_counts = df_brazil.groupby('restaurant_name')['aggregate_rating'].min()\n",
    "most_reviews_restaurant = restaurant_review_counts.idxmin()\n",
    "most_reviews_restaurant"
   ]
  },
  {
   "cell_type": "code",
   "execution_count": 48,
   "metadata": {},
   "outputs": [
    {
     "data": {
      "text/plain": [
       "'Aprazível'"
      ]
     },
     "execution_count": 48,
     "metadata": {},
     "output_type": "execute_result"
    }
   ],
   "source": [
    "# 5. Qual o nome do restaurante de tipo de culinária brasileira, e que é do Brasil, que possui a maior média de avaliação?\n",
    "df_brazil = df[(df['cuisines'] == 'Brazilian') & (df['country_code'] == 30)]\n",
    "restaurant_review_counts = df_brazil.groupby('restaurant_name')['aggregate_rating'].max()\n",
    "most_reviews_restaurant = restaurant_review_counts.idxmax()\n",
    "most_reviews_restaurant"
   ]
  },
  {
   "cell_type": "code",
   "execution_count": 49,
   "metadata": {},
   "outputs": [
    {
     "name": "stdout",
     "output_type": "stream",
     "text": [
      "Média do número de avaliações nos restaurantes que aceitam pedidos online: 838.8216639209226\n",
      "Média do número de avaliações nos restaurantes que não aceitam pedidos online: 479.4210175516552\n",
      "Sim, os restaurantes que aceitam pedidos online possuem, na média, um maior número de avaliações registradas.\n"
     ]
    }
   ],
   "source": [
    "# 6. Os restaurantes que aceitam pedido online são também, na média, os restaurantes que mais possuem avaliações registradas?\n",
    "\n",
    "# Filtrar os restaurantes que aceitam pedidos online\n",
    "df_online = df[df['has_online_delivery'] == 1]\n",
    "\n",
    "# Filtrar os restaurantes que não aceitam pedidos online\n",
    "df_no_online = df[df['has_online_delivery'] == 0]\n",
    "\n",
    "# Calcular a média do número de avaliações para ambos os grupos\n",
    "mean_reviews_online = df_online['votes'].mean()\n",
    "mean_reviews_no_online = df_no_online['votes'].mean()\n",
    "\n",
    "print(f'Média do número de avaliações nos restaurantes que aceitam pedidos online: {mean_reviews_online}')\n",
    "print(f'Média do número de avaliações nos restaurantes que não aceitam pedidos online: {mean_reviews_no_online}')\n",
    "\n",
    "# Comparação\n",
    "if mean_reviews_online > mean_reviews_no_online:\n",
    "    print(\"Sim, os restaurantes que aceitam pedidos online possuem, na média, um maior número de avaliações registradas.\")\n",
    "else:\n",
    "    print(\"Não, os restaurantes que aceitam pedidos online não possuem, na média, um maior número de avaliações registradas.\")"
   ]
  },
  {
   "cell_type": "code",
   "execution_count": 50,
   "metadata": {},
   "outputs": [
    {
     "name": "stdout",
     "output_type": "stream",
     "text": [
      "Média do valor do prato para duas pessoas nos restaurantes que fazem reservas: 69998.42380952381\n",
      "Média do valor do prato para duas pessoas nos restaurantes que não fazem reservas: 3488.5968658780153\n",
      "Sim, os restaurantes que fazem reservas possuem, na média, um valor médio de um prato para duas pessoas maior.\n"
     ]
    }
   ],
   "source": [
    "# 7. Os restaurantes que fazem reservas são também, na média, os restaurantes que \n",
    "# possuem o maior valor médio de um prato para duas pessoas?\n",
    "\n",
    "# Filtrar os restaurantes que fazem reservas\n",
    "df_reserva = df[df['has_table_booking'] == 1]\n",
    "\n",
    "# Filtrar os restaurantes que não fazem reservas\n",
    "df_no_reserva = df[df['has_table_booking'] == 0]\n",
    "\n",
    "# Calcular a média do valor do prato para duas pessoas para ambos os grupos\n",
    "mean_cost_with_reservation = df_reserva['average_cost_for_two'].mean()\n",
    "mean_cost_without_reservation = df_no_reserva['average_cost_for_two'].mean()\n",
    "\n",
    "print(f'Média do valor do prato para duas pessoas nos restaurantes que fazem reservas: {mean_cost_with_reservation}')\n",
    "print(f'Média do valor do prato para duas pessoas nos restaurantes que não fazem reservas: {mean_cost_without_reservation}')\n",
    "\n",
    "# Comparação\n",
    "if mean_cost_with_reservation > mean_cost_without_reservation:\n",
    "    print(\"Sim, os restaurantes que fazem reservas possuem, na média, um valor médio de um prato para duas pessoas maior.\")\n",
    "else:\n",
    "    print(\"Não, os restaurantes que fazem reservas não possuem, na média, um valor médio de um prato para duas pessoas maior.\")"
   ]
  },
  {
   "cell_type": "code",
   "execution_count": 51,
   "metadata": {},
   "outputs": [
    {
     "name": "stdout",
     "output_type": "stream",
     "text": [
      "Média do valor do prato para duas pessoas em restaurantes japoneses: 56.40625\n",
      "Média do valor do prato para duas pessoas em churrascarias (BBQ): 14285.625\n",
      "Não, os restaurantes japoneses não possuem, na média, um valor médio de prato para duas pessoas maior que as churrascarias (BBQ).\n"
     ]
    }
   ],
   "source": [
    "# 8. Os restaurantes do tipo de culinária japonesa dos Estados Unidos da América\n",
    "# possuem um valor médio de prato para duas pessoas maior que as churrascarias americanas (BBQ)?\n",
    "\n",
    "df_usa = df[df['country_code'] == 216]\n",
    "df_japanese = df_usa[df_usa['cuisines'] == 'Japanese']\n",
    "\n",
    "df_bbq = df[df['cuisines'] == 'BBQ']\n",
    " \n",
    "\n",
    " # Calcular a média do valor do prato para duas pessoas para cada grupo\n",
    "mean_cost_japanese = df_japanese['average_cost_for_two'].mean()\n",
    "mean_cost_bbq = df_bbq['average_cost_for_two'].mean()\n",
    "\n",
    "print(f'Média do valor do prato para duas pessoas em restaurantes japoneses: {mean_cost_japanese}')\n",
    "print(f'Média do valor do prato para duas pessoas em churrascarias (BBQ): {mean_cost_bbq}')\n",
    "\n",
    "# Comparação\n",
    "if mean_cost_japanese > mean_cost_bbq:\n",
    "    print(\"Sim, os restaurantes japoneses possuem, na média, um valor médio de prato para duas pessoas maior que as churrascarias (BBQ).\")\n",
    "else:\n",
    "    print(\"Não, os restaurantes japoneses não possuem, na média, um valor médio de prato para duas pessoas maior que as churrascarias (BBQ).\")"
   ]
  },
  {
   "cell_type": "markdown",
   "metadata": {},
   "source": [
    "### Tipos de Culinária"
   ]
  },
  {
   "cell_type": "code",
   "execution_count": 52,
   "metadata": {},
   "outputs": [
    {
     "data": {
      "text/plain": [
       "'Amano Restaurant'"
      ]
     },
     "execution_count": 52,
     "metadata": {},
     "output_type": "execute_result"
    }
   ],
   "source": [
    "# 1. Dos restaurantes que possuem o tipo de culinária italiana, qual o nome do\n",
    "# restaurante com a maior média de avaliação?\n",
    "\n",
    "# Filtrar os restaurantes de culinária italiana\n",
    "df_italian = df[df['cuisines'] == 'Italian']\n",
    "\n",
    "# Agrupar por nome do restaurante e calcular a média das avaliações\n",
    "restaurant_avg_rating = df_italian.groupby('restaurant_name')['aggregate_rating'].mean()\n",
    "\n",
    "# Encontrar o restaurante com a maior média de avaliação\n",
    "best_italian_restaurant = restaurant_avg_rating.idxmax()\n",
    "best_italian_rating = restaurant_avg_rating.max()\n",
    "\n",
    "best_italian_restaurant"
   ]
  },
  {
   "cell_type": "code",
   "execution_count": 53,
   "metadata": {},
   "outputs": [
    {
     "data": {
      "text/plain": [
       "'Avenida Paulista'"
      ]
     },
     "execution_count": 53,
     "metadata": {},
     "output_type": "execute_result"
    }
   ],
   "source": [
    "# 2. Dos restaurantes que possuem o tipo de culinária italiana, qual o nome do\n",
    "# restaurante com a menor média de avaliação?\n",
    "\n",
    "df_italian = df[df['cuisines'] == 'Italian']\n",
    "\n",
    "# Agrupar por nome do restaurante e calcular a média das avaliações\n",
    "restaurant_avg_rating = df_italian.groupby('restaurant_name')['aggregate_rating'].mean()\n",
    "\n",
    "# Encontrar o restaurante com a menor média de avaliação\n",
    "worst_italian_restaurant = restaurant_avg_rating.idxmin()\n",
    "worst_italian_rating = restaurant_avg_rating.min()\n",
    "worst_italian_restaurant"
   ]
  },
  {
   "cell_type": "code",
   "execution_count": 54,
   "metadata": {},
   "outputs": [
    {
     "data": {
      "text/plain": [
       "'5 Napkin Burger'"
      ]
     },
     "execution_count": 54,
     "metadata": {},
     "output_type": "execute_result"
    }
   ],
   "source": [
    "# 3. Dos restaurantes que possuem o tipo de culinária americana, qual o nome do\n",
    "# restaurante com a maior média de avaliação?\n",
    "\n",
    "df_american = df[df['cuisines'] == 'American']\n",
    "\n",
    "# Agrupar por nome do restaurante e calcular a média das avaliações\n",
    "restaurant_avg_rating = df_american.groupby('restaurant_name')['aggregate_rating'].mean()\n",
    "\n",
    "# Encontrar o restaurante com a maior média de avaliação\n",
    "best_american_restaurant = restaurant_avg_rating.idxmax()\n",
    "best_american_restaurant"
   ]
  },
  {
   "cell_type": "code",
   "execution_count": 55,
   "metadata": {},
   "outputs": [
    {
     "data": {
      "text/plain": [
       "'Alston Bar & Beef'"
      ]
     },
     "execution_count": 55,
     "metadata": {},
     "output_type": "execute_result"
    }
   ],
   "source": [
    "# 4. Dos restaurantes que possuem o tipo de culinária americana, qual o nome do\n",
    "# restaurante com a menor média de avaliação?\n",
    "\n",
    "df_american = df[df['cuisines'] == 'American']\n",
    "\n",
    "# Agrupar por nome do restaurante e calcular a média das avaliações\n",
    "restaurant_avg_rating = df_american.groupby('restaurant_name')['aggregate_rating'].mean()\n",
    "\n",
    "# Encontrar o restaurante com a maior média de avaliação\n",
    "worst_american_restaurant = restaurant_avg_rating.idxmin()\n",
    "worst_american_restaurant"
   ]
  },
  {
   "cell_type": "code",
   "execution_count": 56,
   "metadata": {},
   "outputs": [
    {
     "data": {
      "text/plain": [
       "'Mandi@36'"
      ]
     },
     "execution_count": 56,
     "metadata": {},
     "output_type": "execute_result"
    }
   ],
   "source": [
    "# 5. Dos restaurantes que possuem o tipo de culinária árabe, qual o nome do\n",
    "# restaurante com a maior média de avaliação?\n",
    "\n",
    "df_arab = df[df['cuisines'] == 'Arabian']\n",
    "\n",
    "# Agrupar por nome do restaurante e calcular a média das avaliações\n",
    "restaurant_avg_rating = df_arab.groupby('restaurant_name')['aggregate_rating'].mean()\n",
    "\n",
    "# Encontrar o restaurante com a maior média de avaliação\n",
    "best_arab_restaurant = restaurant_avg_rating.idxmax()\n",
    "best_arab_restaurant\n"
   ]
  },
  {
   "cell_type": "code",
   "execution_count": 57,
   "metadata": {},
   "outputs": [
    {
     "data": {
      "text/plain": [
       "'Raful'"
      ]
     },
     "execution_count": 57,
     "metadata": {},
     "output_type": "execute_result"
    }
   ],
   "source": [
    "# 6. Dos restaurantes que possuem o tipo de culinária árabe, qual o nome do\n",
    "# restaurante com a menor média de avaliação?\n",
    "\n",
    "df_arab = df[df['cuisines'] == 'Arabian']\n",
    "\n",
    "# Agrupar por nome do restaurante e calcular a média das avaliações\n",
    "restaurant_avg_rating = df_arab.groupby('restaurant_name')['aggregate_rating'].mean()\n",
    "\n",
    "# Encontrar o restaurante com a maior média de avaliação\n",
    "worst_arab_restaurant = restaurant_avg_rating.idxmin()\n",
    "worst_arab_restaurant\n",
    "\n"
   ]
  },
  {
   "cell_type": "code",
   "execution_count": 58,
   "metadata": {},
   "outputs": [
    {
     "data": {
      "text/plain": [
       "'Chotto Matte'"
      ]
     },
     "execution_count": 58,
     "metadata": {},
     "output_type": "execute_result"
    }
   ],
   "source": [
    "# 7. Dos restaurantes que possuem o tipo de culinária japonesa, qual o nome do\n",
    "# restaurante com a maior média de avaliação?\n",
    "\n",
    "df_japa = df[df['cuisines'] == 'Japanese']\n",
    "\n",
    "# Agrupar por nome do restaurante e calcular a média das avaliações\n",
    "restaurant_avg_rating = df_japa.groupby('restaurant_name')['aggregate_rating'].mean()\n",
    "\n",
    "# Encontrar o restaurante com a maior média de avaliação\n",
    "worst_japa_restaurant = restaurant_avg_rating.idxmax()\n",
    "worst_japa_restaurant"
   ]
  },
  {
   "cell_type": "code",
   "execution_count": 59,
   "metadata": {},
   "outputs": [
    {
     "data": {
      "text/plain": [
       "'Banzai Sushi'"
      ]
     },
     "execution_count": 59,
     "metadata": {},
     "output_type": "execute_result"
    }
   ],
   "source": [
    "# 8. Dos restaurantes que possuem o tipo de culinária japonesa, qual o nome do\n",
    "# restaurante com a menor média de avaliação?\n",
    "\n",
    "df_japa = df[df['cuisines'] == 'Japanese']\n",
    "\n",
    "# Agrupar por nome do restaurante e calcular a média das avaliações\n",
    "restaurant_avg_rating = df_japa.groupby('restaurant_name')['aggregate_rating'].mean()\n",
    "\n",
    "# Encontrar o restaurante com a maior média de avaliação\n",
    "worst_japa_restaurant = restaurant_avg_rating.idxmin()\n",
    "worst_japa_restaurant\n"
   ]
  },
  {
   "cell_type": "code",
   "execution_count": 60,
   "metadata": {},
   "outputs": [
    {
     "data": {
      "text/plain": [
       "array(['Italian', 'European', 'Filipino', 'American', 'Korean', 'Pizza',\n",
       "       'Taiwanese', 'Japanese', 'Coffee', 'Chinese', 'Seafood',\n",
       "       'Singaporean', 'Vietnamese', 'Latin American', 'Healthy Food',\n",
       "       'Cafe', 'Fast Food', 'Brazilian', 'Argentine', 'Arabian', 'Bakery',\n",
       "       'Tex-Mex', 'Bar Food', 'International', 'French', 'Steak',\n",
       "       'German', 'Sushi', 'Grill', 'Peruvian', 'North Eastern',\n",
       "       'Ice Cream', 'Burger', 'Mexican', 'Vegetarian', 'Contemporary',\n",
       "       'Desserts', 'Juices', 'Beverages', 'Spanish', 'Thai', 'Indian',\n",
       "       'Mineira', 'BBQ', 'Mongolian', 'Portuguese', 'Greek', 'Asian',\n",
       "       'Author', 'Gourmet Fast Food', 'Lebanese', 'Modern Australian',\n",
       "       'African', 'Coffee and Tea', 'Australian', 'Middle Eastern',\n",
       "       'Malaysian', 'Tapas', 'New American', 'Pub Food', 'Southern',\n",
       "       'Diner', 'Donuts', 'Southwestern', 'Sandwich', 'Irish',\n",
       "       'Mediterranean', 'Cafe Food', 'Korean BBQ', 'Fusion', 'Canadian',\n",
       "       'Breakfast', 'Cajun', 'New Mexican', 'Belgian', 'Cuban', 'Taco',\n",
       "       'Caribbean', 'Polish', 'Deli', 'British', 'California', 'Others',\n",
       "       'Eastern European', 'Creole', 'Ramen', 'Ukrainian', 'Hawaiian',\n",
       "       'Patisserie', 'Yum Cha', 'Pacific Northwest', 'Tea', 'Moroccan',\n",
       "       'Burmese', 'Dim Sum', 'Crepes', 'Fish and Chips', 'Russian',\n",
       "       'Continental', 'South Indian', 'North Indian', 'Salad',\n",
       "       'Finger Food', 'Mandi', 'Turkish', 'Kerala', 'Pakistani',\n",
       "       'Biryani', 'Street Food', 'Nepalese', 'Goan', 'Iranian', 'Mughlai',\n",
       "       'Rajasthani', 'Mithai', 'Maharashtrian', 'Gujarati', 'Rolls',\n",
       "       'Momos', 'Parsi', 'Modern Indian', 'Andhra', 'Tibetan', 'Kebab',\n",
       "       'Chettinad', 'Bengali', 'Assamese', 'Naga', 'Hyderabadi', 'Awadhi',\n",
       "       'Afghan', 'Lucknowi', 'Charcoal Chicken', 'Mangalorean',\n",
       "       'Egyptian', 'Malwani', 'Armenian', 'Roast Chicken', 'Indonesian',\n",
       "       'Western', 'Dimsum', 'Sunda', 'Kiwi', 'Asian Fusion', 'Pan Asian',\n",
       "       'Balti', 'Scottish', 'Cantonese', 'Sri Lankan', 'Khaleeji',\n",
       "       'South African', 'Drinks Only', 'Durban', 'World Cuisine',\n",
       "       'Izgara', 'Home-made', 'Giblets', 'Fresh Fish', 'Restaurant Cafe',\n",
       "       'Kumpir', 'Döner', 'Turkish Pizza', 'Ottoman', 'Old Turkish Bars',\n",
       "       'Kokoreç'], dtype=object)"
      ]
     },
     "execution_count": 60,
     "metadata": {},
     "output_type": "execute_result"
    }
   ],
   "source": [
    "df['cuisines'].unique()"
   ]
  },
  {
   "cell_type": "code",
   "execution_count": 61,
   "metadata": {},
   "outputs": [
    {
     "data": {
      "text/plain": [
       "'Modern Australian'"
      ]
     },
     "execution_count": 61,
     "metadata": {},
     "output_type": "execute_result"
    }
   ],
   "source": [
    "# 11. Qual o tipo de culinária que possui o maior valor médio de um prato para duas pessoas? \n",
    "\n",
    "cuisine_avg_cost = df.groupby('cuisines')['average_cost_for_two'].mean()\n",
    "\n",
    "# Encontrar o tipo de culinária com o maior valor médio\n",
    "max_avg_cuisine = cuisine_avg_cost.idxmax()\n",
    "max_avg_value = cuisine_avg_cost.max()\n",
    "max_avg_cuisine"
   ]
  },
  {
   "cell_type": "code",
   "execution_count": 62,
   "metadata": {},
   "outputs": [
    {
     "data": {
      "text/plain": [
       "'Others'"
      ]
     },
     "execution_count": 62,
     "metadata": {},
     "output_type": "execute_result"
    }
   ],
   "source": [
    "# 12. Qual o tipo de culinária que possui a maior nota média?\n",
    "\n",
    "cuisine_avg_rating = df.groupby('cuisines')['aggregate_rating'].mean()\n",
    "\n",
    "# Encontrar o tipo de culinária com a maior média de notas\n",
    "max_avg_cuisine = cuisine_avg_rating.idxmax()\n",
    "max_avg_value = cuisine_avg_rating.max()\n",
    "max_avg_cuisine\n"
   ]
  },
  {
   "cell_type": "code",
   "execution_count": 63,
   "metadata": {},
   "outputs": [
    {
     "data": {
      "text/plain": [
       "'North Indian'"
      ]
     },
     "execution_count": 63,
     "metadata": {},
     "output_type": "execute_result"
    }
   ],
   "source": [
    "# 13. Qual o tipo de culinária que possui mais restaurantes que aceitam pedidos\n",
    "# online e fazem entregas?\n",
    "\n",
    "# Filtrar os restaurantes que aceitam pedidos online e fazem entregas\n",
    "df_online_delivery = df[(df['has_online_delivery'] == 1) & (df['has_table_booking'] == 1)]\n",
    "\n",
    "# Contar o número de restaurantes para cada tipo de culinária\n",
    "cuisine_count = df_online_delivery['cuisines'].value_counts()\n",
    "\n",
    "# Identificar o tipo de culinária com o maior número de restaurantes\n",
    "max_cuisine = cuisine_count.idxmax()\n",
    "max_count = cuisine_count.max()\n",
    "\n",
    "max_cuisine"
   ]
  },
  {
   "cell_type": "markdown",
   "metadata": {},
   "source": [
    "# Execute"
   ]
  },
  {
   "cell_type": "markdown",
   "metadata": {},
   "source": [
    "O CEO também pediu que fosse gerado um dashboard que permitisse que ele\n",
    "visualizasse as principais informações das perguntas que ele fez. O CEO precisa\n",
    "dessas informações o mais rápido possível, uma vez que ele também é novo na\n",
    "empresa e irá utilizá-las para entender melhor a empresa Fome Zero para conseguir\n",
    "tomar decisões mais assertivas."
   ]
  },
  {
   "cell_type": "code",
   "execution_count": null,
   "metadata": {},
   "outputs": [],
   "source": []
  }
 ],
 "metadata": {
  "kernelspec": {
   "display_name": "Python 3",
   "language": "python",
   "name": "python3"
  },
  "language_info": {
   "codemirror_mode": {
    "name": "ipython",
    "version": 3
   },
   "file_extension": ".py",
   "mimetype": "text/x-python",
   "name": "python",
   "nbconvert_exporter": "python",
   "pygments_lexer": "ipython3",
   "version": "3.12.2"
  }
 },
 "nbformat": 4,
 "nbformat_minor": 2
}
